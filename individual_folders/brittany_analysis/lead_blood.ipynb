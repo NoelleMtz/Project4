{
  "cells": [
    {
      "cell_type": "markdown",
      "metadata": {},
      "source": [
        "# Children in New York Lead levels in their blood \n",
        "In this notebook I first read in the data, dropped columns that did not have testable data in them, then split the data into Training and testing sets to check the accuracy of the following question:\n",
        "    Does the Year of Birth affect whether or not a child would have levels of lead in their system? "
      ]
    },
    {
      "cell_type": "code",
      "execution_count": 72,
      "metadata": {
        "id": "JGc8qx2YHgZR"
      },
      "outputs": [],
      "source": [
        "# Dependencies\n",
        "import numpy as np\n",
        "import pandas as pd\n",
        "import datetime as dt\n",
        "import requests\n",
        "import json\n",
        "from pprint import pprint\n",
        "from matplotlib import style\n",
        "import matplotlib.pyplot as plt\n",
        "from pathlib import Path\n",
        "from sklearn.model_selection import train_test_split\n",
        "from sklearn.linear_model import LogisticRegression\n",
        "from sklearn.metrics import balanced_accuracy_score, confusion_matrix, classification_report\n",
        "from imblearn.over_sampling import RandomOverSampler"
      ]
    },
    {
      "cell_type": "code",
      "execution_count": 33,
      "metadata": {},
      "outputs": [
        {
          "data": {
            "text/html": [
              "<div>\n",
              "<style scoped>\n",
              "    .dataframe tbody tr th:only-of-type {\n",
              "        vertical-align: middle;\n",
              "    }\n",
              "\n",
              "    .dataframe tbody tr th {\n",
              "        vertical-align: top;\n",
              "    }\n",
              "\n",
              "    .dataframe thead th {\n",
              "        text-align: right;\n",
              "    }\n",
              "</style>\n",
              "<table border=\"1\" class=\"dataframe\">\n",
              "  <thead>\n",
              "    <tr style=\"text-align: right;\">\n",
              "      <th></th>\n",
              "      <th>County</th>\n",
              "      <th>County Code</th>\n",
              "      <th>Zip</th>\n",
              "      <th>Year</th>\n",
              "      <th>Year of Birth</th>\n",
              "      <th>Tests</th>\n",
              "      <th>Less than 5 mcg/dL</th>\n",
              "      <th>5-10 mcg/dL</th>\n",
              "      <th>10-15 mcg/dL</th>\n",
              "      <th>15+ mcg/dL</th>\n",
              "      <th>Total Elevated Blood Levels</th>\n",
              "      <th>Rate per 1,000</th>\n",
              "      <th>Percent</th>\n",
              "      <th>Zip Code Location</th>\n",
              "      <th>County Location</th>\n",
              "    </tr>\n",
              "  </thead>\n",
              "  <tbody>\n",
              "    <tr>\n",
              "      <th>1812</th>\n",
              "      <td>Wyoming</td>\n",
              "      <td>121</td>\n",
              "      <td>14591</td>\n",
              "      <td>2020</td>\n",
              "      <td>2019</td>\n",
              "      <td>7</td>\n",
              "      <td>7.0</td>\n",
              "      <td>0.0</td>\n",
              "      <td>0.0</td>\n",
              "      <td>0.0</td>\n",
              "      <td>0.0</td>\n",
              "      <td>0.0</td>\n",
              "      <td>0.0</td>\n",
              "      <td>(42.827666, -78.08667)</td>\n",
              "      <td>(42.701363, -78.228567)</td>\n",
              "    </tr>\n",
              "    <tr>\n",
              "      <th>1813</th>\n",
              "      <td>Yates</td>\n",
              "      <td>123</td>\n",
              "      <td>14527</td>\n",
              "      <td>2020</td>\n",
              "      <td>2017</td>\n",
              "      <td>13</td>\n",
              "      <td>13.0</td>\n",
              "      <td>0.0</td>\n",
              "      <td>0.0</td>\n",
              "      <td>0.0</td>\n",
              "      <td>0.0</td>\n",
              "      <td>0.0</td>\n",
              "      <td>0.0</td>\n",
              "      <td>(42.658509, -77.061185)</td>\n",
              "      <td>(42.6431, -77.1485)</td>\n",
              "    </tr>\n",
              "    <tr>\n",
              "      <th>1814</th>\n",
              "      <td>Yates</td>\n",
              "      <td>123</td>\n",
              "      <td>14527</td>\n",
              "      <td>2020</td>\n",
              "      <td>2020</td>\n",
              "      <td>7</td>\n",
              "      <td>7.0</td>\n",
              "      <td>0.0</td>\n",
              "      <td>0.0</td>\n",
              "      <td>0.0</td>\n",
              "      <td>0.0</td>\n",
              "      <td>0.0</td>\n",
              "      <td>0.0</td>\n",
              "      <td>(42.658509, -77.061185)</td>\n",
              "      <td>(42.6431, -77.1485)</td>\n",
              "    </tr>\n",
              "    <tr>\n",
              "      <th>1815</th>\n",
              "      <td>Yates</td>\n",
              "      <td>123</td>\n",
              "      <td>14544</td>\n",
              "      <td>2020</td>\n",
              "      <td>2018</td>\n",
              "      <td>8</td>\n",
              "      <td>8.0</td>\n",
              "      <td>0.0</td>\n",
              "      <td>0.0</td>\n",
              "      <td>0.0</td>\n",
              "      <td>0.0</td>\n",
              "      <td>0.0</td>\n",
              "      <td>0.0</td>\n",
              "      <td>(42.742889, -77.245455)</td>\n",
              "      <td>(42.6431, -77.1485)</td>\n",
              "    </tr>\n",
              "    <tr>\n",
              "      <th>1816</th>\n",
              "      <td>Yates</td>\n",
              "      <td>123</td>\n",
              "      <td>14544</td>\n",
              "      <td>2020</td>\n",
              "      <td>2019</td>\n",
              "      <td>7</td>\n",
              "      <td>7.0</td>\n",
              "      <td>0.0</td>\n",
              "      <td>0.0</td>\n",
              "      <td>0.0</td>\n",
              "      <td>0.0</td>\n",
              "      <td>0.0</td>\n",
              "      <td>0.0</td>\n",
              "      <td>(42.742889, -77.245455)</td>\n",
              "      <td>(42.6431, -77.1485)</td>\n",
              "    </tr>\n",
              "  </tbody>\n",
              "</table>\n",
              "</div>"
            ],
            "text/plain": [
              "       County  County Code    Zip  Year  Year of Birth  Tests  \\\n",
              "1812  Wyoming          121  14591  2020           2019      7   \n",
              "1813    Yates          123  14527  2020           2017     13   \n",
              "1814    Yates          123  14527  2020           2020      7   \n",
              "1815    Yates          123  14544  2020           2018      8   \n",
              "1816    Yates          123  14544  2020           2019      7   \n",
              "\n",
              "      Less than 5 mcg/dL  5-10 mcg/dL  10-15 mcg/dL  15+ mcg/dL  \\\n",
              "1812                 7.0          0.0           0.0         0.0   \n",
              "1813                13.0          0.0           0.0         0.0   \n",
              "1814                 7.0          0.0           0.0         0.0   \n",
              "1815                 8.0          0.0           0.0         0.0   \n",
              "1816                 7.0          0.0           0.0         0.0   \n",
              "\n",
              "      Total Elevated Blood Levels  Rate per 1,000  Percent  \\\n",
              "1812                          0.0             0.0      0.0   \n",
              "1813                          0.0             0.0      0.0   \n",
              "1814                          0.0             0.0      0.0   \n",
              "1815                          0.0             0.0      0.0   \n",
              "1816                          0.0             0.0      0.0   \n",
              "\n",
              "            Zip Code Location          County Location  \n",
              "1812   (42.827666, -78.08667)  (42.701363, -78.228567)  \n",
              "1813  (42.658509, -77.061185)      (42.6431, -77.1485)  \n",
              "1814  (42.658509, -77.061185)      (42.6431, -77.1485)  \n",
              "1815  (42.742889, -77.245455)      (42.6431, -77.1485)  \n",
              "1816  (42.742889, -77.245455)      (42.6431, -77.1485)  "
            ]
          },
          "execution_count": 33,
          "metadata": {},
          "output_type": "execute_result"
        }
      ],
      "source": [
        "#  Import and read the combined csv\n",
        "bt_df=pd.read_csv(Path('../brittany_analysis/data/cleaned_blood_data.csv'))\n",
        "bt_df.tail()"
      ]
    },
    {
      "cell_type": "code",
      "execution_count": 34,
      "metadata": {},
      "outputs": [],
      "source": [
        "#Drop specific columns that are not needed \n",
        "bt_df=bt_df.drop(columns=['County','Zip Code Location','County Location'])\n"
      ]
    },
    {
      "cell_type": "code",
      "execution_count": 35,
      "metadata": {},
      "outputs": [
        {
          "data": {
            "text/plain": [
              "Index(['County Code', 'Zip', 'Year', 'Year of Birth', 'Tests',\n",
              "       'Less than 5 mcg/dL', '5-10 mcg/dL', '10-15 mcg/dL', '15+ mcg/dL',\n",
              "       'Total Elevated Blood Levels', 'Rate per 1,000', 'Percent'],\n",
              "      dtype='object')"
            ]
          },
          "execution_count": 35,
          "metadata": {},
          "output_type": "execute_result"
        }
      ],
      "source": [
        "#Select your features (columns)\n",
        "bt_df.columns"
      ]
    },
    {
      "cell_type": "code",
      "execution_count": 36,
      "metadata": {},
      "outputs": [
        {
          "data": {
            "text/html": [
              "<div>\n",
              "<style scoped>\n",
              "    .dataframe tbody tr th:only-of-type {\n",
              "        vertical-align: middle;\n",
              "    }\n",
              "\n",
              "    .dataframe tbody tr th {\n",
              "        vertical-align: top;\n",
              "    }\n",
              "\n",
              "    .dataframe thead th {\n",
              "        text-align: right;\n",
              "    }\n",
              "</style>\n",
              "<table border=\"1\" class=\"dataframe\">\n",
              "  <thead>\n",
              "    <tr style=\"text-align: right;\">\n",
              "      <th></th>\n",
              "      <th>County Code</th>\n",
              "      <th>Zip</th>\n",
              "      <th>Year</th>\n",
              "      <th>Year of Birth</th>\n",
              "      <th>Tests</th>\n",
              "      <th>Less than 5 mcg/dL</th>\n",
              "      <th>5-10 mcg/dL</th>\n",
              "      <th>10-15 mcg/dL</th>\n",
              "      <th>15+ mcg/dL</th>\n",
              "      <th>Total Elevated Blood Levels</th>\n",
              "      <th>Rate per 1,000</th>\n",
              "      <th>Percent</th>\n",
              "    </tr>\n",
              "  </thead>\n",
              "  <tbody>\n",
              "    <tr>\n",
              "      <th>0</th>\n",
              "      <td>1</td>\n",
              "      <td>12009</td>\n",
              "      <td>2020</td>\n",
              "      <td>2019</td>\n",
              "      <td>30</td>\n",
              "      <td>30.0</td>\n",
              "      <td>0.0</td>\n",
              "      <td>0.0</td>\n",
              "      <td>0.0</td>\n",
              "      <td>0.0</td>\n",
              "      <td>0.0</td>\n",
              "      <td>0.0</td>\n",
              "    </tr>\n",
              "    <tr>\n",
              "      <th>1</th>\n",
              "      <td>1</td>\n",
              "      <td>12023</td>\n",
              "      <td>2020</td>\n",
              "      <td>2019</td>\n",
              "      <td>7</td>\n",
              "      <td>7.0</td>\n",
              "      <td>0.0</td>\n",
              "      <td>0.0</td>\n",
              "      <td>0.0</td>\n",
              "      <td>0.0</td>\n",
              "      <td>0.0</td>\n",
              "      <td>0.0</td>\n",
              "    </tr>\n",
              "    <tr>\n",
              "      <th>2</th>\n",
              "      <td>1</td>\n",
              "      <td>12054</td>\n",
              "      <td>2020</td>\n",
              "      <td>2017</td>\n",
              "      <td>6</td>\n",
              "      <td>6.0</td>\n",
              "      <td>0.0</td>\n",
              "      <td>0.0</td>\n",
              "      <td>0.0</td>\n",
              "      <td>0.0</td>\n",
              "      <td>0.0</td>\n",
              "      <td>0.0</td>\n",
              "    </tr>\n",
              "    <tr>\n",
              "      <th>3</th>\n",
              "      <td>1</td>\n",
              "      <td>12083</td>\n",
              "      <td>2020</td>\n",
              "      <td>2018</td>\n",
              "      <td>6</td>\n",
              "      <td>6.0</td>\n",
              "      <td>0.0</td>\n",
              "      <td>0.0</td>\n",
              "      <td>0.0</td>\n",
              "      <td>0.0</td>\n",
              "      <td>0.0</td>\n",
              "      <td>0.0</td>\n",
              "    </tr>\n",
              "    <tr>\n",
              "      <th>4</th>\n",
              "      <td>1</td>\n",
              "      <td>12083</td>\n",
              "      <td>2020</td>\n",
              "      <td>2019</td>\n",
              "      <td>7</td>\n",
              "      <td>7.0</td>\n",
              "      <td>0.0</td>\n",
              "      <td>0.0</td>\n",
              "      <td>0.0</td>\n",
              "      <td>0.0</td>\n",
              "      <td>0.0</td>\n",
              "      <td>0.0</td>\n",
              "    </tr>\n",
              "    <tr>\n",
              "      <th>...</th>\n",
              "      <td>...</td>\n",
              "      <td>...</td>\n",
              "      <td>...</td>\n",
              "      <td>...</td>\n",
              "      <td>...</td>\n",
              "      <td>...</td>\n",
              "      <td>...</td>\n",
              "      <td>...</td>\n",
              "      <td>...</td>\n",
              "      <td>...</td>\n",
              "      <td>...</td>\n",
              "      <td>...</td>\n",
              "    </tr>\n",
              "    <tr>\n",
              "      <th>1812</th>\n",
              "      <td>121</td>\n",
              "      <td>14591</td>\n",
              "      <td>2020</td>\n",
              "      <td>2019</td>\n",
              "      <td>7</td>\n",
              "      <td>7.0</td>\n",
              "      <td>0.0</td>\n",
              "      <td>0.0</td>\n",
              "      <td>0.0</td>\n",
              "      <td>0.0</td>\n",
              "      <td>0.0</td>\n",
              "      <td>0.0</td>\n",
              "    </tr>\n",
              "    <tr>\n",
              "      <th>1813</th>\n",
              "      <td>123</td>\n",
              "      <td>14527</td>\n",
              "      <td>2020</td>\n",
              "      <td>2017</td>\n",
              "      <td>13</td>\n",
              "      <td>13.0</td>\n",
              "      <td>0.0</td>\n",
              "      <td>0.0</td>\n",
              "      <td>0.0</td>\n",
              "      <td>0.0</td>\n",
              "      <td>0.0</td>\n",
              "      <td>0.0</td>\n",
              "    </tr>\n",
              "    <tr>\n",
              "      <th>1814</th>\n",
              "      <td>123</td>\n",
              "      <td>14527</td>\n",
              "      <td>2020</td>\n",
              "      <td>2020</td>\n",
              "      <td>7</td>\n",
              "      <td>7.0</td>\n",
              "      <td>0.0</td>\n",
              "      <td>0.0</td>\n",
              "      <td>0.0</td>\n",
              "      <td>0.0</td>\n",
              "      <td>0.0</td>\n",
              "      <td>0.0</td>\n",
              "    </tr>\n",
              "    <tr>\n",
              "      <th>1815</th>\n",
              "      <td>123</td>\n",
              "      <td>14544</td>\n",
              "      <td>2020</td>\n",
              "      <td>2018</td>\n",
              "      <td>8</td>\n",
              "      <td>8.0</td>\n",
              "      <td>0.0</td>\n",
              "      <td>0.0</td>\n",
              "      <td>0.0</td>\n",
              "      <td>0.0</td>\n",
              "      <td>0.0</td>\n",
              "      <td>0.0</td>\n",
              "    </tr>\n",
              "    <tr>\n",
              "      <th>1816</th>\n",
              "      <td>123</td>\n",
              "      <td>14544</td>\n",
              "      <td>2020</td>\n",
              "      <td>2019</td>\n",
              "      <td>7</td>\n",
              "      <td>7.0</td>\n",
              "      <td>0.0</td>\n",
              "      <td>0.0</td>\n",
              "      <td>0.0</td>\n",
              "      <td>0.0</td>\n",
              "      <td>0.0</td>\n",
              "      <td>0.0</td>\n",
              "    </tr>\n",
              "  </tbody>\n",
              "</table>\n",
              "<p>1817 rows × 12 columns</p>\n",
              "</div>"
            ],
            "text/plain": [
              "      County Code    Zip  Year  Year of Birth  Tests  Less than 5 mcg/dL  \\\n",
              "0               1  12009  2020           2019     30                30.0   \n",
              "1               1  12023  2020           2019      7                 7.0   \n",
              "2               1  12054  2020           2017      6                 6.0   \n",
              "3               1  12083  2020           2018      6                 6.0   \n",
              "4               1  12083  2020           2019      7                 7.0   \n",
              "...           ...    ...   ...            ...    ...                 ...   \n",
              "1812          121  14591  2020           2019      7                 7.0   \n",
              "1813          123  14527  2020           2017     13                13.0   \n",
              "1814          123  14527  2020           2020      7                 7.0   \n",
              "1815          123  14544  2020           2018      8                 8.0   \n",
              "1816          123  14544  2020           2019      7                 7.0   \n",
              "\n",
              "      5-10 mcg/dL  10-15 mcg/dL  15+ mcg/dL  Total Elevated Blood Levels  \\\n",
              "0             0.0           0.0         0.0                          0.0   \n",
              "1             0.0           0.0         0.0                          0.0   \n",
              "2             0.0           0.0         0.0                          0.0   \n",
              "3             0.0           0.0         0.0                          0.0   \n",
              "4             0.0           0.0         0.0                          0.0   \n",
              "...           ...           ...         ...                          ...   \n",
              "1812          0.0           0.0         0.0                          0.0   \n",
              "1813          0.0           0.0         0.0                          0.0   \n",
              "1814          0.0           0.0         0.0                          0.0   \n",
              "1815          0.0           0.0         0.0                          0.0   \n",
              "1816          0.0           0.0         0.0                          0.0   \n",
              "\n",
              "      Rate per 1,000  Percent  \n",
              "0                0.0      0.0  \n",
              "1                0.0      0.0  \n",
              "2                0.0      0.0  \n",
              "3                0.0      0.0  \n",
              "4                0.0      0.0  \n",
              "...              ...      ...  \n",
              "1812             0.0      0.0  \n",
              "1813             0.0      0.0  \n",
              "1814             0.0      0.0  \n",
              "1815             0.0      0.0  \n",
              "1816             0.0      0.0  \n",
              "\n",
              "[1817 rows x 12 columns]"
            ]
          },
          "execution_count": 36,
          "metadata": {},
          "output_type": "execute_result"
        }
      ],
      "source": [
        "bt_df"
      ]
    },
    {
      "cell_type": "markdown",
      "metadata": {},
      "source": [
        "# Split the Data into Training and Testing Sets\n",
        "Use 'Year of Birth' for the y value to determine if age is a factor or not"
      ]
    },
    {
      "cell_type": "code",
      "execution_count": 56,
      "metadata": {},
      "outputs": [],
      "source": [
        "#Set features that will be used as our y and x values\n",
        "y=bt_df['Year of Birth']\n",
        "X=bt_df.drop(columns='Year of Birth')"
      ]
    },
    {
      "cell_type": "code",
      "execution_count": 57,
      "metadata": {},
      "outputs": [
        {
          "data": {
            "text/plain": [
              "0    2019\n",
              "1    2019\n",
              "2    2017\n",
              "3    2018\n",
              "4    2019\n",
              "Name: Year of Birth, dtype: int64"
            ]
          },
          "execution_count": 57,
          "metadata": {},
          "output_type": "execute_result"
        }
      ],
      "source": [
        "#Review the y variable \n",
        "y[:5]"
      ]
    },
    {
      "cell_type": "code",
      "execution_count": 58,
      "metadata": {},
      "outputs": [
        {
          "data": {
            "text/html": [
              "<div>\n",
              "<style scoped>\n",
              "    .dataframe tbody tr th:only-of-type {\n",
              "        vertical-align: middle;\n",
              "    }\n",
              "\n",
              "    .dataframe tbody tr th {\n",
              "        vertical-align: top;\n",
              "    }\n",
              "\n",
              "    .dataframe thead th {\n",
              "        text-align: right;\n",
              "    }\n",
              "</style>\n",
              "<table border=\"1\" class=\"dataframe\">\n",
              "  <thead>\n",
              "    <tr style=\"text-align: right;\">\n",
              "      <th></th>\n",
              "      <th>County Code</th>\n",
              "      <th>Zip</th>\n",
              "      <th>Year</th>\n",
              "      <th>Tests</th>\n",
              "      <th>Less than 5 mcg/dL</th>\n",
              "      <th>5-10 mcg/dL</th>\n",
              "      <th>10-15 mcg/dL</th>\n",
              "      <th>15+ mcg/dL</th>\n",
              "      <th>Total Elevated Blood Levels</th>\n",
              "      <th>Rate per 1,000</th>\n",
              "      <th>Percent</th>\n",
              "    </tr>\n",
              "  </thead>\n",
              "  <tbody>\n",
              "    <tr>\n",
              "      <th>0</th>\n",
              "      <td>1</td>\n",
              "      <td>12009</td>\n",
              "      <td>2020</td>\n",
              "      <td>30</td>\n",
              "      <td>30.0</td>\n",
              "      <td>0.0</td>\n",
              "      <td>0.0</td>\n",
              "      <td>0.0</td>\n",
              "      <td>0.0</td>\n",
              "      <td>0.0</td>\n",
              "      <td>0.0</td>\n",
              "    </tr>\n",
              "    <tr>\n",
              "      <th>1</th>\n",
              "      <td>1</td>\n",
              "      <td>12023</td>\n",
              "      <td>2020</td>\n",
              "      <td>7</td>\n",
              "      <td>7.0</td>\n",
              "      <td>0.0</td>\n",
              "      <td>0.0</td>\n",
              "      <td>0.0</td>\n",
              "      <td>0.0</td>\n",
              "      <td>0.0</td>\n",
              "      <td>0.0</td>\n",
              "    </tr>\n",
              "    <tr>\n",
              "      <th>2</th>\n",
              "      <td>1</td>\n",
              "      <td>12054</td>\n",
              "      <td>2020</td>\n",
              "      <td>6</td>\n",
              "      <td>6.0</td>\n",
              "      <td>0.0</td>\n",
              "      <td>0.0</td>\n",
              "      <td>0.0</td>\n",
              "      <td>0.0</td>\n",
              "      <td>0.0</td>\n",
              "      <td>0.0</td>\n",
              "    </tr>\n",
              "    <tr>\n",
              "      <th>3</th>\n",
              "      <td>1</td>\n",
              "      <td>12083</td>\n",
              "      <td>2020</td>\n",
              "      <td>6</td>\n",
              "      <td>6.0</td>\n",
              "      <td>0.0</td>\n",
              "      <td>0.0</td>\n",
              "      <td>0.0</td>\n",
              "      <td>0.0</td>\n",
              "      <td>0.0</td>\n",
              "      <td>0.0</td>\n",
              "    </tr>\n",
              "    <tr>\n",
              "      <th>4</th>\n",
              "      <td>1</td>\n",
              "      <td>12083</td>\n",
              "      <td>2020</td>\n",
              "      <td>7</td>\n",
              "      <td>7.0</td>\n",
              "      <td>0.0</td>\n",
              "      <td>0.0</td>\n",
              "      <td>0.0</td>\n",
              "      <td>0.0</td>\n",
              "      <td>0.0</td>\n",
              "      <td>0.0</td>\n",
              "    </tr>\n",
              "  </tbody>\n",
              "</table>\n",
              "</div>"
            ],
            "text/plain": [
              "   County Code    Zip  Year  Tests  Less than 5 mcg/dL  5-10 mcg/dL  \\\n",
              "0            1  12009  2020     30                30.0          0.0   \n",
              "1            1  12023  2020      7                 7.0          0.0   \n",
              "2            1  12054  2020      6                 6.0          0.0   \n",
              "3            1  12083  2020      6                 6.0          0.0   \n",
              "4            1  12083  2020      7                 7.0          0.0   \n",
              "\n",
              "   10-15 mcg/dL  15+ mcg/dL  Total Elevated Blood Levels  Rate per 1,000  \\\n",
              "0           0.0         0.0                          0.0             0.0   \n",
              "1           0.0         0.0                          0.0             0.0   \n",
              "2           0.0         0.0                          0.0             0.0   \n",
              "3           0.0         0.0                          0.0             0.0   \n",
              "4           0.0         0.0                          0.0             0.0   \n",
              "\n",
              "   Percent  \n",
              "0      0.0  \n",
              "1      0.0  \n",
              "2      0.0  \n",
              "3      0.0  \n",
              "4      0.0  "
            ]
          },
          "execution_count": 58,
          "metadata": {},
          "output_type": "execute_result"
        }
      ],
      "source": [
        "#Review the X variable \n",
        "X[:5]"
      ]
    },
    {
      "cell_type": "code",
      "execution_count": 59,
      "metadata": {},
      "outputs": [
        {
          "data": {
            "text/plain": [
              "2018    612\n",
              "2019    425\n",
              "2017    306\n",
              "2016    183\n",
              "2015    143\n",
              "2020     98\n",
              "2014     50\n",
              "Name: Year of Birth, dtype: int64"
            ]
          },
          "execution_count": 59,
          "metadata": {},
          "output_type": "execute_result"
        }
      ],
      "source": [
        "#Check the balance of the targeted value \n",
        "y.value_counts()"
      ]
    },
    {
      "cell_type": "code",
      "execution_count": 60,
      "metadata": {},
      "outputs": [],
      "source": [
        "#create a Train Test Split \n",
        "X_train, X_test, y_train, y_test = train_test_split(X,y, random_state = 42)"
      ]
    },
    {
      "cell_type": "markdown",
      "metadata": {},
      "source": [
        "## Logistical Regression Model"
      ]
    },
    {
      "cell_type": "code",
      "execution_count": 61,
      "metadata": {},
      "outputs": [
        {
          "name": "stderr",
          "output_type": "stream",
          "text": [
            "c:\\Users\\britt\\anaconda3\\lib\\site-packages\\sklearn\\linear_model\\_logistic.py:458: ConvergenceWarning: lbfgs failed to converge (status=1):\n",
            "STOP: TOTAL NO. of ITERATIONS REACHED LIMIT.\n",
            "\n",
            "Increase the number of iterations (max_iter) or scale the data as shown in:\n",
            "    https://scikit-learn.org/stable/modules/preprocessing.html\n",
            "Please also refer to the documentation for alternative solver options:\n",
            "    https://scikit-learn.org/stable/modules/linear_model.html#logistic-regression\n",
            "  n_iter_i = _check_optimize_result(\n"
          ]
        }
      ],
      "source": [
        "#Create a Logistic Regression Model by using the training data \n",
        "lr_model=LogisticRegression(random_state=42)\n",
        "#Fit the model using the training Data \n",
        "training_model=lr_model.fit(X_train,y_train)"
      ]
    },
    {
      "cell_type": "code",
      "execution_count": 62,
      "metadata": {},
      "outputs": [],
      "source": [
        "#make a prediction using testing data \n",
        "testing_predictions=training_model.predict(X_test)"
      ]
    },
    {
      "cell_type": "code",
      "execution_count": 63,
      "metadata": {},
      "outputs": [
        {
          "name": "stdout",
          "output_type": "stream",
          "text": [
            "0.15967719741304648\n"
          ]
        }
      ],
      "source": [
        "#Show the balanced accuracy score of the model\n",
        "balanced_model=balanced_accuracy_score(y_test, testing_predictions) \n",
        "print(balanced_model)"
      ]
    },
    {
      "cell_type": "code",
      "execution_count": 64,
      "metadata": {},
      "outputs": [
        {
          "name": "stdout",
          "output_type": "stream",
          "text": [
            "[[  0   0   0   1   9   1   0]\n",
            " [  0   0   0   5  22   5   0]\n",
            " [  0   0   0  10  34   3   0]\n",
            " [  0   0   0   9  67   5   0]\n",
            " [  0   0   0   4 142   2   0]\n",
            " [  0   0   0   8  93   5   0]\n",
            " [  0   0   0   5  22   3   0]]\n"
          ]
        }
      ],
      "source": [
        "# Generate a confusion matrix for the model\n",
        "matrix_model=confusion_matrix(y_test,testing_predictions)\n",
        "print(matrix_model)"
      ]
    },
    {
      "cell_type": "code",
      "execution_count": 65,
      "metadata": {},
      "outputs": [
        {
          "name": "stdout",
          "output_type": "stream",
          "text": [
            "              precision    recall  f1-score   support\n",
            "\n",
            "        2014       0.00      0.00      0.00        11\n",
            "        2015       0.00      0.00      0.00        32\n",
            "        2016       0.00      0.00      0.00        47\n",
            "        2017       0.21      0.11      0.15        81\n",
            "        2018       0.37      0.96      0.53       148\n",
            "        2019       0.21      0.05      0.08       106\n",
            "        2020       0.00      0.00      0.00        30\n",
            "\n",
            "    accuracy                           0.34       455\n",
            "   macro avg       0.11      0.16      0.11       455\n",
            "weighted avg       0.21      0.34      0.22       455\n",
            "\n"
          ]
        },
        {
          "name": "stderr",
          "output_type": "stream",
          "text": [
            "c:\\Users\\britt\\anaconda3\\lib\\site-packages\\sklearn\\metrics\\_classification.py:1344: UndefinedMetricWarning: Precision and F-score are ill-defined and being set to 0.0 in labels with no predicted samples. Use `zero_division` parameter to control this behavior.\n",
            "  _warn_prf(average, modifier, msg_start, len(result))\n",
            "c:\\Users\\britt\\anaconda3\\lib\\site-packages\\sklearn\\metrics\\_classification.py:1344: UndefinedMetricWarning: Precision and F-score are ill-defined and being set to 0.0 in labels with no predicted samples. Use `zero_division` parameter to control this behavior.\n",
            "  _warn_prf(average, modifier, msg_start, len(result))\n",
            "c:\\Users\\britt\\anaconda3\\lib\\site-packages\\sklearn\\metrics\\_classification.py:1344: UndefinedMetricWarning: Precision and F-score are ill-defined and being set to 0.0 in labels with no predicted samples. Use `zero_division` parameter to control this behavior.\n",
            "  _warn_prf(average, modifier, msg_start, len(result))\n"
          ]
        }
      ],
      "source": [
        "# Print the classification report for the model\n",
        "classification_model=classification_report(y_test,testing_predictions)\n",
        "print(classification_model)"
      ]
    },
    {
      "cell_type": "markdown",
      "metadata": {},
      "source": [
        "# Predicting a Logistical Regression Model with Resampled Training Data \n",
        "using RandomOverSampler"
      ]
    },
    {
      "cell_type": "code",
      "execution_count": 66,
      "metadata": {},
      "outputs": [],
      "source": [
        "# RandomOverSampler to resample the data \n",
        "# # Assign a random_state parameter of 42\n",
        "random_oversampler_model=RandomOverSampler(random_state=42)\n",
        "\n",
        "# Fit the original training data to the random_oversampler model\n",
        "X_oversample, y_oversample = random_oversampler_model.fit_resample(X_train,y_train)"
      ]
    },
    {
      "cell_type": "markdown",
      "metadata": {},
      "source": []
    },
    {
      "cell_type": "code",
      "execution_count": 67,
      "metadata": {},
      "outputs": [
        {
          "data": {
            "text/plain": [
              "2014    464\n",
              "2018    464\n",
              "2017    464\n",
              "2016    464\n",
              "2019    464\n",
              "2020    464\n",
              "2015    464\n",
              "Name: Year of Birth, dtype: int64"
            ]
          },
          "execution_count": 67,
          "metadata": {},
          "output_type": "execute_result"
        }
      ],
      "source": [
        "# Count the distinct values of the resampled labels data\n",
        "y_oversample.value_counts()"
      ]
    },
    {
      "cell_type": "code",
      "execution_count": 68,
      "metadata": {},
      "outputs": [
        {
          "name": "stderr",
          "output_type": "stream",
          "text": [
            "c:\\Users\\britt\\anaconda3\\lib\\site-packages\\sklearn\\linear_model\\_logistic.py:458: ConvergenceWarning: lbfgs failed to converge (status=1):\n",
            "STOP: TOTAL NO. of ITERATIONS REACHED LIMIT.\n",
            "\n",
            "Increase the number of iterations (max_iter) or scale the data as shown in:\n",
            "    https://scikit-learn.org/stable/modules/preprocessing.html\n",
            "Please also refer to the documentation for alternative solver options:\n",
            "    https://scikit-learn.org/stable/modules/linear_model.html#logistic-regression\n",
            "  n_iter_i = _check_optimize_result(\n"
          ]
        }
      ],
      "source": [
        "#Logistic Regression Model\n",
        "random_state_model=LogisticRegression(solver='lbfgs', random_state=1)\n",
        "\n",
        "# Fit the model using the resampled training data\n",
        "random_state_model.fit(X_oversample,y_oversample)\n",
        "\n",
        "# Make a prediction using the testing data\n",
        "y_prediction=random_state_model.predict(X_test)"
      ]
    },
    {
      "cell_type": "code",
      "execution_count": 69,
      "metadata": {},
      "outputs": [
        {
          "data": {
            "text/plain": [
              "0.21550822089344104"
            ]
          },
          "execution_count": 69,
          "metadata": {},
          "output_type": "execute_result"
        }
      ],
      "source": [
        "# Print the balanced_accuracy score of the model \n",
        "balanced_accuracy_score(y_test, y_prediction)"
      ]
    },
    {
      "cell_type": "code",
      "execution_count": 70,
      "metadata": {},
      "outputs": [
        {
          "name": "stdout",
          "output_type": "stream",
          "text": [
            "[[ 6  3  0  0  0  1  1]\n",
            " [12  3  0  4  4  6  3]\n",
            " [12  4  0 10  6 10  5]\n",
            " [15 13  4 17 12 11  9]\n",
            " [10  9  1 22 64 23 19]\n",
            " [11  6  2 21 42 17  7]\n",
            " [14  3  1  4  4  2  2]]\n"
          ]
        }
      ],
      "source": [
        "# Generate a confusion matrix for the model\n",
        "print(confusion_matrix(y_test, y_prediction))"
      ]
    },
    {
      "cell_type": "code",
      "execution_count": 71,
      "metadata": {},
      "outputs": [
        {
          "name": "stdout",
          "output_type": "stream",
          "text": [
            "              precision    recall  f1-score   support\n",
            "\n",
            "        2014       0.07      0.55      0.13        11\n",
            "        2015       0.07      0.09      0.08        32\n",
            "        2016       0.00      0.00      0.00        47\n",
            "        2017       0.22      0.21      0.21        81\n",
            "        2018       0.48      0.43      0.46       148\n",
            "        2019       0.24      0.16      0.19       106\n",
            "        2020       0.04      0.07      0.05        30\n",
            "\n",
            "    accuracy                           0.24       455\n",
            "   macro avg       0.16      0.22      0.16       455\n",
            "weighted avg       0.26      0.24      0.24       455\n",
            "\n"
          ]
        }
      ],
      "source": [
        "# Print the classification report for the model\n",
        "print(classification_report(y_test, y_prediction))"
      ]
    }
  ],
  "metadata": {
    "colab": {
      "provenance": []
    },
    "kernelspec": {
      "display_name": "Python 3",
      "name": "python3"
    },
    "language_info": {
      "codemirror_mode": {
        "name": "ipython",
        "version": 3
      },
      "file_extension": ".py",
      "mimetype": "text/x-python",
      "name": "python",
      "nbconvert_exporter": "python",
      "pygments_lexer": "ipython3",
      "version": "3.10.9"
    }
  },
  "nbformat": 4,
  "nbformat_minor": 0
}
