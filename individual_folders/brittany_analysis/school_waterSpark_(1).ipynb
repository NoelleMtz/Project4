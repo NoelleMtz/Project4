{
  "nbformat": 4,
  "nbformat_minor": 0,
  "metadata": {
    "colab": {
      "provenance": []
    },
    "kernelspec": {
      "name": "python3",
      "display_name": "Python 3"
    },
    "language_info": {
      "name": "python"
    }
  },
  "cells": [
    {
      "cell_type": "code",
      "source": [
        "! pip install pyspark"
      ],
      "metadata": {
        "colab": {
          "base_uri": "https://localhost:8080/"
        },
        "id": "RndAUQ-kI6r7",
        "outputId": "553a7ca1-89da-4424-d402-153dcfb189da"
      },
      "execution_count": null,
      "outputs": [
        {
          "output_type": "stream",
          "name": "stdout",
          "text": [
            "Collecting pyspark\n",
            "  Downloading pyspark-3.4.1.tar.gz (310.8 MB)\n",
            "\u001b[2K     \u001b[90m━━━━━━━━━━━━━━━━━━━━━━━━━━━━━━━━━━━━━━━\u001b[0m \u001b[32m310.8/310.8 MB\u001b[0m \u001b[31m3.1 MB/s\u001b[0m eta \u001b[36m0:00:00\u001b[0m\n",
            "\u001b[?25h  Preparing metadata (setup.py) ... \u001b[?25l\u001b[?25hdone\n",
            "Requirement already satisfied: py4j==0.10.9.7 in /usr/local/lib/python3.10/dist-packages (from pyspark) (0.10.9.7)\n",
            "Building wheels for collected packages: pyspark\n",
            "  Building wheel for pyspark (setup.py) ... \u001b[?25l\u001b[?25hdone\n",
            "  Created wheel for pyspark: filename=pyspark-3.4.1-py2.py3-none-any.whl size=311285397 sha256=78bc947fdea59efa84bb9cda071dabc74afda5fa2e55a8bf08b685e6ef767ff8\n",
            "  Stored in directory: /root/.cache/pip/wheels/0d/77/a3/ff2f74cc9ab41f8f594dabf0579c2a7c6de920d584206e0834\n",
            "Successfully built pyspark\n",
            "Installing collected packages: pyspark\n",
            "Successfully installed pyspark-3.4.1\n"
          ]
        }
      ]
    },
    {
      "cell_type": "code",
      "source": [
        "! pip install findspark"
      ],
      "metadata": {
        "colab": {
          "base_uri": "https://localhost:8080/"
        },
        "id": "HGszrQH4ZL9N",
        "outputId": "295040f6-7e4c-4afb-c708-ba24c175473b"
      },
      "execution_count": null,
      "outputs": [
        {
          "output_type": "stream",
          "name": "stdout",
          "text": [
            "Collecting findspark\n",
            "  Downloading findspark-2.0.1-py2.py3-none-any.whl (4.4 kB)\n",
            "Installing collected packages: findspark\n",
            "Successfully installed findspark-2.0.1\n"
          ]
        }
      ]
    },
    {
      "cell_type": "code",
      "source": [
        "import findspark\n",
        "findspark.init()"
      ],
      "metadata": {
        "id": "5sb_4Jz3Y8gG"
      },
      "execution_count": null,
      "outputs": []
    },
    {
      "cell_type": "code",
      "execution_count": null,
      "metadata": {
        "id": "0J9b0vFtI0Cb"
      },
      "outputs": [],
      "source": [
        "# Import packages\n",
        "from pyspark.sql import SparkSession\n",
        "from pyspark.sql import Row\n",
        "from pyspark.sql.types import StructType,StructField,StringType, DateType,IntegerType\n",
        "from pyspark import SparkFiles\n",
        "from pyspark.ml import Pipeline\n",
        "from pyspark.ml.feature import StringIndexer, VectorAssembler, OneHotEncoder\n",
        "from pyspark.ml.classification import DecisionTreeClassifier\n",
        "from pyspark.ml.evaluation import MulticlassClassificationEvaluator\n",
        "from pyspark.ml.tuning import CrossValidator, ParamGridBuilder\n"
      ]
    },
    {
      "cell_type": "code",
      "source": [
        "# Create a SparkSession\n",
        "spark = SparkSession.builder.appName(\"SparkSQL\").getOrCreate()\n",
        "#First Path\n",
        "path = \"cleaned_water_data.csv\"\n",
        "school_df = spark.read.option(\"header\",'True').option('delimiter', ',').csv(path)\n",
        "\n",
        "#Second Path\n",
        "pathtwo = \"cleaned_blood_data.csv\"\n",
        "lead_df= spark.read.option(\"header\",'True').option('delimiter', ',').csv(pathtwo)\n"
      ],
      "metadata": {
        "id": "G-yGuHouI5Ki"
      },
      "execution_count": null,
      "outputs": []
    },
    {
      "cell_type": "markdown",
      "source": [
        "Preview Both Data Sets"
      ],
      "metadata": {
        "id": "0zFyv2m7c6fT"
      }
    },
    {
      "cell_type": "code",
      "source": [
        "#First Data Frame School Water\n",
        "school_df.show(5)"
      ],
      "metadata": {
        "colab": {
          "base_uri": "https://localhost:8080/"
        },
        "id": "9yScQK0xI2lP",
        "outputId": "860c5f38-52a2-4b6c-d049-e817455eac84"
      },
      "execution_count": 38,
      "outputs": [
        {
          "output_type": "stream",
          "name": "stdout",
          "text": [
            "+------+-----+--------------------+--------------------+-------------------------------------+---------------------------------------+----------------+----------------+--------------------+\n",
            "|County|  Zip|              School|Type of Organization|Any Building with Lead-Free Plumbing?|Number of Outlets that Require Sampling|Outlets ≤ 15 ppb|Outlets > 15 ppb|     County Location|\n",
            "+------+-----+--------------------+--------------------+-------------------------------------+---------------------------------------+----------------+----------------+--------------------+\n",
            "|Albany|12009|         ALTAMONT ES|       Public School|                                   No|                                   63.0|            63.0|             0.0|(42.678066, -73.8...|\n",
            "|Albany|12047|ABRAM LANSING SCHOOL|       Public School|                                   No|                                   74.0|            74.0|             0.0|(42.678066, -73.8...|\n",
            "|Albany|12047|  BOGHT HILLS SCHOOL|       Public School|                                   No|                                   81.0|            80.0|             1.0|(42.678066, -73.8...|\n",
            "|Albany|12047|           COHOES HS|       Public School|                                   No|                                   53.0|            53.0|             0.0|(42.678066, -73.8...|\n",
            "|Albany|12047|     HARMONY HILL ES|       Public School|                                   No|                                   86.0|            86.0|             0.0|(42.678066, -73.8...|\n",
            "+------+-----+--------------------+--------------------+-------------------------------------+---------------------------------------+----------------+----------------+--------------------+\n",
            "only showing top 5 rows\n",
            "\n"
          ]
        }
      ]
    },
    {
      "cell_type": "code",
      "source": [
        "#Second DataFrame Lead levels in blood\n",
        "lead_df.show(5)\n"
      ],
      "metadata": {
        "colab": {
          "base_uri": "https://localhost:8080/"
        },
        "id": "wJ4o_wF2P7Dr",
        "outputId": "c9e31de7-07f5-46cf-fcb6-bde513bacac6"
      },
      "execution_count": 39,
      "outputs": [
        {
          "output_type": "stream",
          "name": "stdout",
          "text": [
            "+------+-----------+-----+----+-------------+-----+------------------+-----------+------------+----------+---------------------------+--------------+-------+--------------------+--------------------+\n",
            "|County|County Code|  Zip|Year|Year of Birth|Tests|Less than 5 mcg/dL|5-10 mcg/dL|10-15 mcg/dL|15+ mcg/dL|Total Elevated Blood Levels|Rate per 1,000|Percent|   Zip Code Location|     County Location|\n",
            "+------+-----------+-----+----+-------------+-----+------------------+-----------+------------+----------+---------------------------+--------------+-------+--------------------+--------------------+\n",
            "|Albany|          1|12009|2020|         2019|   30|              30.0|        0.0|         0.0|       0.0|                        0.0|           0.0|    0.0|(42.697778, -74.0...|(42.588271, -73.9...|\n",
            "|Albany|          1|12023|2020|         2019|    7|               7.0|        0.0|         0.0|       0.0|                        0.0|           0.0|    0.0|(42.60636, -74.1438)|(42.588271, -73.9...|\n",
            "|Albany|          1|12054|2020|         2017|    6|               6.0|        0.0|         0.0|       0.0|                        0.0|           0.0|    0.0|(42.60522, -73.87...|(42.588271, -73.9...|\n",
            "|Albany|          1|12083|2020|         2018|    6|               6.0|        0.0|         0.0|       0.0|                        0.0|           0.0|    0.0|(42.416705, -74.0...|(42.588271, -73.9...|\n",
            "|Albany|          1|12083|2020|         2019|    7|               7.0|        0.0|         0.0|       0.0|                        0.0|           0.0|    0.0|(42.416705, -74.0...|(42.588271, -73.9...|\n",
            "+------+-----------+-----+----+-------------+-----+------------------+-----------+------------+----------+---------------------------+--------------+-------+--------------------+--------------------+\n",
            "only showing top 5 rows\n",
            "\n"
          ]
        }
      ]
    },
    {
      "cell_type": "code",
      "source": [
        "#look at the statistics of plumbing outlets\n",
        "school_df.select(['Outlets ≤ 15 ppb','Outlets > 15 ppb']).describe().show()"
      ],
      "metadata": {
        "colab": {
          "base_uri": "https://localhost:8080/"
        },
        "id": "KVyk8uBoNrRV",
        "outputId": "d2e10133-8762-4fd5-cb5b-efc8d4df1d9e"
      },
      "execution_count": null,
      "outputs": [
        {
          "output_type": "stream",
          "name": "stdout",
          "text": [
            "+-------+------------------+-----------------+\n",
            "|summary|  Outlets ≤ 15 ppb| Outlets > 15 ppb|\n",
            "+-------+------------------+-----------------+\n",
            "|  count|              3366|             3366|\n",
            "|   mean| 80.46850861556744|4.065359477124183|\n",
            "| stddev|48.434493872706874|8.314144501152382|\n",
            "|    min|               0.0|              0.0|\n",
            "|    max|              99.0|             91.0|\n",
            "+-------+------------------+-----------------+\n",
            "\n"
          ]
        }
      ]
    },
    {
      "cell_type": "code",
      "source": [
        "#look at the statistics of lead in blood levels of children\n",
        "lead_df.select(['Less than 5 mcg/dL','5-10 mcg/dL','10-15 mcg/dL','15+ mcg/dL']).describe().show()"
      ],
      "metadata": {
        "colab": {
          "base_uri": "https://localhost:8080/"
        },
        "id": "Vn_TPgdwRECq",
        "outputId": "70a8af4e-4203-415f-cf25-51a934c17511"
      },
      "execution_count": null,
      "outputs": [
        {
          "output_type": "stream",
          "name": "stdout",
          "text": [
            "+-------+------------------+--------------------+------------+----------+\n",
            "|summary|Less than 5 mcg/dL|         5-10 mcg/dL|10-15 mcg/dL|15+ mcg/dL|\n",
            "+-------+------------------+--------------------+------------+----------+\n",
            "|  count|              1817|                1817|        1817|      1817|\n",
            "|   mean| 25.73913043478261|0.022564667033571822|         0.0|       0.0|\n",
            "| stddev| 33.12551510551277|  0.3969007470413673|         0.0|       0.0|\n",
            "|    min|              10.0|                 0.0|         0.0|       0.0|\n",
            "|    max|              99.0|                 9.0|         0.0|       0.0|\n",
            "+-------+------------------+--------------------+------------+----------+\n",
            "\n"
          ]
        }
      ]
    },
    {
      "cell_type": "markdown",
      "source": [
        "# Schools in New York Water Data\n",
        "First read in the data using pyspark, dropped columns that did not have testable data in them, then split the data into Training and testing sets to check the accuracy of the following question:\n",
        "    Are there any schools in New york that have Lead Free Plumbing?"
      ],
      "metadata": {
        "id": "VfTm9AZATtHJ"
      }
    },
    {
      "cell_type": "code",
      "source": [
        "#Drop specific columns that are not needed I created a variable, so it would copy and not edit the original dataframe\n",
        "school=school_df.drop('County','County Location','Type of Organization','School')\n",
        "school.show()"
      ],
      "metadata": {
        "colab": {
          "base_uri": "https://localhost:8080/"
        },
        "id": "-tr5hqrsT1KL",
        "outputId": "41dcb252-bf8b-483c-e2fa-32e3a36ce5b0"
      },
      "execution_count": null,
      "outputs": [
        {
          "output_type": "stream",
          "name": "stdout",
          "text": [
            "+-----+-------------------------------------+---------------------------------------+----------------+----------------+\n",
            "|  Zip|Any Building with Lead-Free Plumbing?|Number of Outlets that Require Sampling|Outlets ≤ 15 ppb|Outlets > 15 ppb|\n",
            "+-----+-------------------------------------+---------------------------------------+----------------+----------------+\n",
            "|12009|                                   No|                                   63.0|            63.0|             0.0|\n",
            "|12047|                                   No|                                   74.0|            74.0|             0.0|\n",
            "|12047|                                   No|                                   81.0|            80.0|             1.0|\n",
            "|12047|                                   No|                                   53.0|            53.0|             0.0|\n",
            "|12047|                                   No|                                   86.0|            86.0|             0.0|\n",
            "|12084|                                   No|                                   95.0|            95.0|             0.0|\n",
            "|12084|                                   No|                                  218.0|           218.0|             0.0|\n",
            "|12085|                                   No|                                  162.0|           161.0|             1.0|\n",
            "|12110|                                   No|                                   82.0|            81.0|             1.0|\n",
            "|12110|                                   No|                                   82.0|            81.0|             1.0|\n",
            "|12110|                                   No|                                   98.0|            88.0|            10.0|\n",
            "|12110|                 Yes (Partial Buil...|                                  141.0|           131.0|            10.0|\n",
            "|12143|                                   No|                                   80.0|            70.0|            10.0|\n",
            "|12143|                                   No|                                   62.0|            51.0|            11.0|\n",
            "|12183|                                   No|                                   93.0|            93.0|             0.0|\n",
            "|12186|                                   No|                                  106.0|            94.0|            12.0|\n",
            "|12186|                                   No|                                   22.0|            19.0|             3.0|\n",
            "|12189|                 Yes (Entire Build...|                                  104.0|           104.0|             0.0|\n",
            "|12189|                                   No|                                  105.0|           103.0|             2.0|\n",
            "|12201|                                   No|                                  146.0|           125.0|            21.0|\n",
            "+-----+-------------------------------------+---------------------------------------+----------------+----------------+\n",
            "only showing top 20 rows\n",
            "\n"
          ]
        }
      ]
    },
    {
      "cell_type": "code",
      "source": [
        "#Select your features (columns)\n",
        "school.columns"
      ],
      "metadata": {
        "colab": {
          "base_uri": "https://localhost:8080/"
        },
        "id": "IZFhOI5YUIBV",
        "outputId": "3c078b4f-ddbe-4965-f0a4-40a434f3bb67"
      },
      "execution_count": null,
      "outputs": [
        {
          "output_type": "execute_result",
          "data": {
            "text/plain": [
              "['Zip',\n",
              " 'Any Building with Lead-Free Plumbing?',\n",
              " 'Number of Outlets that Require Sampling',\n",
              " 'Outlets ≤ 15 ppb',\n",
              " 'Outlets > 15 ppb']"
            ]
          },
          "metadata": {},
          "execution_count": 12
        }
      ]
    },
    {
      "cell_type": "markdown",
      "source": [
        "Split Train/Test School Data"
      ],
      "metadata": {
        "id": "Deud8UMWVxXy"
      }
    },
    {
      "cell_type": "code",
      "source": [
        "#Index Categorical data from strings to int\n",
        "indexer= StringIndexer(inputCol='Any Building with Lead-Free Plumbing?',outputCol='Any Building with Lead-Free Plumbing?_idx')\n",
        "\n",
        "#Assign index values to strings\n",
        "indexer = indexer.fit(school)\n",
        "\n",
        "#Create column with index values\n",
        "school = indexer.transform(school)"
      ],
      "metadata": {
        "id": "nUgjqxa0lrI0"
      },
      "execution_count": 31,
      "outputs": []
    },
    {
      "cell_type": "code",
      "source": [
        "#Assembling Columns\n",
        "assembler=VectorAssembler(inputCols=['Zip', 'Number of Outlets that Require Sampling','Outlets ≤ 15 ppb','Outlets > 15 ppb','Any Building with Lead-Free Plumbing?_idx'], outputCol='features')\n",
        "\n",
        "# Consolidate predictor columns\n",
        "schools_assembled = assembler.transform(school)\n",
        "\n",
        "# Check the resulting column\n",
        "schools_assembled.select('features','')\n"
      ],
      "metadata": {
        "colab": {
          "base_uri": "https://localhost:8080/",
          "height": 449
        },
        "id": "F06eN43OJ2nM",
        "outputId": "5c4dbc13-6d3d-4a5e-9d1c-6f8fd7ddfd6f"
      },
      "execution_count": 35,
      "outputs": [
        {
          "output_type": "error",
          "ename": "IllegalArgumentException",
          "evalue": "ignored",
          "traceback": [
            "\u001b[0;31m---------------------------------------------------------------------------\u001b[0m",
            "\u001b[0;31mIllegalArgumentException\u001b[0m                  Traceback (most recent call last)",
            "\u001b[0;32m<ipython-input-35-dece814f7c84>\u001b[0m in \u001b[0;36m<cell line: 4>\u001b[0;34m()\u001b[0m\n\u001b[1;32m      2\u001b[0m \u001b[0massembler\u001b[0m\u001b[0;34m=\u001b[0m\u001b[0mVectorAssembler\u001b[0m\u001b[0;34m(\u001b[0m\u001b[0minputCols\u001b[0m\u001b[0;34m=\u001b[0m\u001b[0;34m[\u001b[0m\u001b[0;34m'Zip'\u001b[0m\u001b[0;34m,\u001b[0m \u001b[0;34m'Number of Outlets that Require Sampling'\u001b[0m\u001b[0;34m,\u001b[0m\u001b[0;34m'Outlets ≤ 15 ppb'\u001b[0m\u001b[0;34m,\u001b[0m\u001b[0;34m'Outlets > 15 ppb'\u001b[0m\u001b[0;34m,\u001b[0m\u001b[0;34m'Any Building with Lead-Free Plumbing?_idx'\u001b[0m\u001b[0;34m]\u001b[0m\u001b[0;34m,\u001b[0m \u001b[0moutputCol\u001b[0m\u001b[0;34m=\u001b[0m\u001b[0;34m'features'\u001b[0m\u001b[0;34m)\u001b[0m\u001b[0;34m\u001b[0m\u001b[0;34m\u001b[0m\u001b[0m\n\u001b[1;32m      3\u001b[0m \u001b[0;31m# Consolidate predictor columns\u001b[0m\u001b[0;34m\u001b[0m\u001b[0;34m\u001b[0m\u001b[0m\n\u001b[0;32m----> 4\u001b[0;31m \u001b[0mschools_assembled\u001b[0m \u001b[0;34m=\u001b[0m \u001b[0massembler\u001b[0m\u001b[0;34m.\u001b[0m\u001b[0mtransform\u001b[0m\u001b[0;34m(\u001b[0m\u001b[0mschool\u001b[0m\u001b[0;34m)\u001b[0m\u001b[0;34m\u001b[0m\u001b[0;34m\u001b[0m\u001b[0m\n\u001b[0m\u001b[1;32m      5\u001b[0m \u001b[0;31m# Check the resulting column\u001b[0m\u001b[0;34m\u001b[0m\u001b[0;34m\u001b[0m\u001b[0m\n\u001b[1;32m      6\u001b[0m \u001b[0mschools_assembled\u001b[0m\u001b[0;34m.\u001b[0m\u001b[0mselect\u001b[0m\u001b[0;34m(\u001b[0m\u001b[0;34m'features'\u001b[0m\u001b[0;34m,\u001b[0m\u001b[0;34m'school'\u001b[0m\u001b[0;34m)\u001b[0m\u001b[0;34m\u001b[0m\u001b[0;34m\u001b[0m\u001b[0m\n",
            "\u001b[0;32m/usr/local/lib/python3.10/dist-packages/pyspark/ml/base.py\u001b[0m in \u001b[0;36mtransform\u001b[0;34m(self, dataset, params)\u001b[0m\n\u001b[1;32m    260\u001b[0m                 \u001b[0;32mreturn\u001b[0m \u001b[0mself\u001b[0m\u001b[0;34m.\u001b[0m\u001b[0mcopy\u001b[0m\u001b[0;34m(\u001b[0m\u001b[0mparams\u001b[0m\u001b[0;34m)\u001b[0m\u001b[0;34m.\u001b[0m\u001b[0m_transform\u001b[0m\u001b[0;34m(\u001b[0m\u001b[0mdataset\u001b[0m\u001b[0;34m)\u001b[0m\u001b[0;34m\u001b[0m\u001b[0;34m\u001b[0m\u001b[0m\n\u001b[1;32m    261\u001b[0m             \u001b[0;32melse\u001b[0m\u001b[0;34m:\u001b[0m\u001b[0;34m\u001b[0m\u001b[0;34m\u001b[0m\u001b[0m\n\u001b[0;32m--> 262\u001b[0;31m                 \u001b[0;32mreturn\u001b[0m \u001b[0mself\u001b[0m\u001b[0;34m.\u001b[0m\u001b[0m_transform\u001b[0m\u001b[0;34m(\u001b[0m\u001b[0mdataset\u001b[0m\u001b[0;34m)\u001b[0m\u001b[0;34m\u001b[0m\u001b[0;34m\u001b[0m\u001b[0m\n\u001b[0m\u001b[1;32m    263\u001b[0m         \u001b[0;32melse\u001b[0m\u001b[0;34m:\u001b[0m\u001b[0;34m\u001b[0m\u001b[0;34m\u001b[0m\u001b[0m\n\u001b[1;32m    264\u001b[0m             \u001b[0;32mraise\u001b[0m \u001b[0mTypeError\u001b[0m\u001b[0;34m(\u001b[0m\u001b[0;34m\"Params must be a param map but got %s.\"\u001b[0m \u001b[0;34m%\u001b[0m \u001b[0mtype\u001b[0m\u001b[0;34m(\u001b[0m\u001b[0mparams\u001b[0m\u001b[0;34m)\u001b[0m\u001b[0;34m)\u001b[0m\u001b[0;34m\u001b[0m\u001b[0;34m\u001b[0m\u001b[0m\n",
            "\u001b[0;32m/usr/local/lib/python3.10/dist-packages/pyspark/ml/wrapper.py\u001b[0m in \u001b[0;36m_transform\u001b[0;34m(self, dataset)\u001b[0m\n\u001b[1;32m    396\u001b[0m \u001b[0;34m\u001b[0m\u001b[0m\n\u001b[1;32m    397\u001b[0m         \u001b[0mself\u001b[0m\u001b[0;34m.\u001b[0m\u001b[0m_transfer_params_to_java\u001b[0m\u001b[0;34m(\u001b[0m\u001b[0;34m)\u001b[0m\u001b[0;34m\u001b[0m\u001b[0;34m\u001b[0m\u001b[0m\n\u001b[0;32m--> 398\u001b[0;31m         \u001b[0;32mreturn\u001b[0m \u001b[0mDataFrame\u001b[0m\u001b[0;34m(\u001b[0m\u001b[0mself\u001b[0m\u001b[0;34m.\u001b[0m\u001b[0m_java_obj\u001b[0m\u001b[0;34m.\u001b[0m\u001b[0mtransform\u001b[0m\u001b[0;34m(\u001b[0m\u001b[0mdataset\u001b[0m\u001b[0;34m.\u001b[0m\u001b[0m_jdf\u001b[0m\u001b[0;34m)\u001b[0m\u001b[0;34m,\u001b[0m \u001b[0mdataset\u001b[0m\u001b[0;34m.\u001b[0m\u001b[0msparkSession\u001b[0m\u001b[0;34m)\u001b[0m\u001b[0;34m\u001b[0m\u001b[0;34m\u001b[0m\u001b[0m\n\u001b[0m\u001b[1;32m    399\u001b[0m \u001b[0;34m\u001b[0m\u001b[0m\n\u001b[1;32m    400\u001b[0m \u001b[0;34m\u001b[0m\u001b[0m\n",
            "\u001b[0;32m/usr/local/lib/python3.10/dist-packages/py4j/java_gateway.py\u001b[0m in \u001b[0;36m__call__\u001b[0;34m(self, *args)\u001b[0m\n\u001b[1;32m   1320\u001b[0m \u001b[0;34m\u001b[0m\u001b[0m\n\u001b[1;32m   1321\u001b[0m         \u001b[0manswer\u001b[0m \u001b[0;34m=\u001b[0m \u001b[0mself\u001b[0m\u001b[0;34m.\u001b[0m\u001b[0mgateway_client\u001b[0m\u001b[0;34m.\u001b[0m\u001b[0msend_command\u001b[0m\u001b[0;34m(\u001b[0m\u001b[0mcommand\u001b[0m\u001b[0;34m)\u001b[0m\u001b[0;34m\u001b[0m\u001b[0;34m\u001b[0m\u001b[0m\n\u001b[0;32m-> 1322\u001b[0;31m         return_value = get_return_value(\n\u001b[0m\u001b[1;32m   1323\u001b[0m             answer, self.gateway_client, self.target_id, self.name)\n\u001b[1;32m   1324\u001b[0m \u001b[0;34m\u001b[0m\u001b[0m\n",
            "\u001b[0;32m/usr/local/lib/python3.10/dist-packages/pyspark/errors/exceptions/captured.py\u001b[0m in \u001b[0;36mdeco\u001b[0;34m(*a, **kw)\u001b[0m\n\u001b[1;32m    173\u001b[0m                 \u001b[0;31m# Hide where the exception came from that shows a non-Pythonic\u001b[0m\u001b[0;34m\u001b[0m\u001b[0;34m\u001b[0m\u001b[0m\n\u001b[1;32m    174\u001b[0m                 \u001b[0;31m# JVM exception message.\u001b[0m\u001b[0;34m\u001b[0m\u001b[0;34m\u001b[0m\u001b[0m\n\u001b[0;32m--> 175\u001b[0;31m                 \u001b[0;32mraise\u001b[0m \u001b[0mconverted\u001b[0m \u001b[0;32mfrom\u001b[0m \u001b[0;32mNone\u001b[0m\u001b[0;34m\u001b[0m\u001b[0;34m\u001b[0m\u001b[0m\n\u001b[0m\u001b[1;32m    176\u001b[0m             \u001b[0;32melse\u001b[0m\u001b[0;34m:\u001b[0m\u001b[0;34m\u001b[0m\u001b[0;34m\u001b[0m\u001b[0m\n\u001b[1;32m    177\u001b[0m                 \u001b[0;32mraise\u001b[0m\u001b[0;34m\u001b[0m\u001b[0;34m\u001b[0m\u001b[0m\n",
            "\u001b[0;31mIllegalArgumentException\u001b[0m: Data type string of column Zip is not supported.\nData type string of column Number of Outlets that Require Sampling is not supported.\nData type string of column Outlets ≤ 15 ppb is not supported.\nData type string of column Outlets > 15 ppb is not supported."
          ]
        }
      ]
    },
    {
      "cell_type": "code",
      "source": [
        "#Split into Training and testing sets in a 80:20 ratio\n",
        "school_train, school_test=school.randomSplit([0.8,0.2],seed=42)"
      ],
      "metadata": {
        "id": "GP9o0LJJdLLv"
      },
      "execution_count": 32,
      "outputs": []
    },
    {
      "cell_type": "code",
      "source": [
        "#Check that training set has around 80% of records\n",
        "training_ratio=school_train.count()/school.count()\n",
        "print(training_ratio)"
      ],
      "metadata": {
        "id": "4bvTq99IdxRq",
        "colab": {
          "base_uri": "https://localhost:8080/"
        },
        "outputId": "7622b8f6-973e-4516-f288-ae9a6bc9f298"
      },
      "execution_count": 33,
      "outputs": [
        {
          "output_type": "stream",
          "name": "stdout",
          "text": [
            "0.8152109328579917\n"
          ]
        }
      ]
    },
    {
      "cell_type": "code",
      "source": [
        "# Create the decision tree classifier instance\n",
        "tree = DecisionTreeClassifier()\n",
        "#fitting the model\n",
        "school_tree_model = tree.fit(school_train)\n"
      ],
      "metadata": {
        "id": "KrHZ8sAOeIa8"
      },
      "execution_count": 37,
      "outputs": []
    },
    {
      "cell_type": "code",
      "source": [
        "# Create predictions for the testing data and take a look at the predictions\n",
        "prediction = school_tree_model.transform(school_test)\n",
        "prediction.select('label','prediction','probability').show()"
      ],
      "metadata": {
        "id": "WKhbeti3FXPG"
      },
      "execution_count": 37,
      "outputs": []
    }
  ]
}