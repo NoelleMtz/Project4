{
  "cells": [
    {
      "cell_type": "markdown",
      "metadata": {},
      "source": [
        "# Schools in New York drinking water safe and does not have lead \n",
        "In this notebook I first read in the data, dropped columns that did not have testable data in them, then split the data into Training and testing sets to check the accuracy of the following question:\n",
        "    Are there any schools in New york that have Lead Free Plumbing? "
      ]
    },
    {
      "cell_type": "code",
      "execution_count": 10,
      "metadata": {
        "id": "JGc8qx2YHgZR"
      },
      "outputs": [],
      "source": [
        "# Dependencies\n",
        "import numpy as np\n",
        "import pandas as pd\n",
        "import datetime as dt\n",
        "import requests\n",
        "import json\n",
        "from pprint import pprint\n",
        "from matplotlib import style\n",
        "import matplotlib.pyplot as plt\n",
        "from pathlib import Path\n",
        "from sklearn.model_selection import train_test_split\n",
        "from sklearn.linear_model import LogisticRegression\n",
        "from sklearn.metrics import balanced_accuracy_score, confusion_matrix, classification_report\n",
        "from imblearn.over_sampling import RandomOverSampler"
      ]
    },
    {
      "cell_type": "code",
      "execution_count": 11,
      "metadata": {},
      "outputs": [
        {
          "data": {
            "text/html": [
              "<div>\n",
              "<style scoped>\n",
              "    .dataframe tbody tr th:only-of-type {\n",
              "        vertical-align: middle;\n",
              "    }\n",
              "\n",
              "    .dataframe tbody tr th {\n",
              "        vertical-align: top;\n",
              "    }\n",
              "\n",
              "    .dataframe thead th {\n",
              "        text-align: right;\n",
              "    }\n",
              "</style>\n",
              "<table border=\"1\" class=\"dataframe\">\n",
              "  <thead>\n",
              "    <tr style=\"text-align: right;\">\n",
              "      <th></th>\n",
              "      <th>County</th>\n",
              "      <th>Zip</th>\n",
              "      <th>School</th>\n",
              "      <th>Type of Organization</th>\n",
              "      <th>Any Building with Lead-Free Plumbing?</th>\n",
              "      <th>Number of Outlets that Require Sampling</th>\n",
              "      <th>Outlets ≤ 15 ppb</th>\n",
              "      <th>Outlets &gt; 15 ppb</th>\n",
              "      <th>County Location</th>\n",
              "    </tr>\n",
              "  </thead>\n",
              "  <tbody>\n",
              "    <tr>\n",
              "      <th>3361</th>\n",
              "      <td>Wyoming</td>\n",
              "      <td>14427</td>\n",
              "      <td>LETCHWORTH HS</td>\n",
              "      <td>Public School</td>\n",
              "      <td>No</td>\n",
              "      <td>49.0</td>\n",
              "      <td>42.0</td>\n",
              "      <td>7.0</td>\n",
              "      <td>(42.723641, -78.204473)</td>\n",
              "    </tr>\n",
              "    <tr>\n",
              "      <th>3362</th>\n",
              "      <td>Wyoming</td>\n",
              "      <td>14427</td>\n",
              "      <td>LETCHWORTH MS</td>\n",
              "      <td>Public School</td>\n",
              "      <td>No</td>\n",
              "      <td>35.0</td>\n",
              "      <td>28.0</td>\n",
              "      <td>7.0</td>\n",
              "      <td>(42.723641, -78.204473)</td>\n",
              "    </tr>\n",
              "    <tr>\n",
              "      <th>3363</th>\n",
              "      <td>Wyoming</td>\n",
              "      <td>14569</td>\n",
              "      <td>WARSAW ELEM SCHOOL</td>\n",
              "      <td>Public School</td>\n",
              "      <td>No</td>\n",
              "      <td>52.0</td>\n",
              "      <td>51.0</td>\n",
              "      <td>1.0</td>\n",
              "      <td>(42.723641, -78.204473)</td>\n",
              "    </tr>\n",
              "    <tr>\n",
              "      <th>3364</th>\n",
              "      <td>Wyoming</td>\n",
              "      <td>14569</td>\n",
              "      <td>WARSAW J S H S</td>\n",
              "      <td>Public School</td>\n",
              "      <td>No</td>\n",
              "      <td>47.0</td>\n",
              "      <td>44.0</td>\n",
              "      <td>3.0</td>\n",
              "      <td>(42.723641, -78.204473)</td>\n",
              "    </tr>\n",
              "    <tr>\n",
              "      <th>3365</th>\n",
              "      <td>Yates</td>\n",
              "      <td>14527</td>\n",
              "      <td>PENN YAN ACADEMY</td>\n",
              "      <td>Public School</td>\n",
              "      <td>Yes (Entire Building)</td>\n",
              "      <td>44.0</td>\n",
              "      <td>43.0</td>\n",
              "      <td>1.0</td>\n",
              "      <td>(42.634338, -77.078311)</td>\n",
              "    </tr>\n",
              "  </tbody>\n",
              "</table>\n",
              "</div>"
            ],
            "text/plain": [
              "       County    Zip              School Type of Organization  \\\n",
              "3361  Wyoming  14427       LETCHWORTH HS        Public School   \n",
              "3362  Wyoming  14427       LETCHWORTH MS        Public School   \n",
              "3363  Wyoming  14569  WARSAW ELEM SCHOOL        Public School   \n",
              "3364  Wyoming  14569      WARSAW J S H S        Public School   \n",
              "3365    Yates  14527    PENN YAN ACADEMY        Public School   \n",
              "\n",
              "     Any Building with Lead-Free Plumbing?  \\\n",
              "3361                                    No   \n",
              "3362                                    No   \n",
              "3363                                    No   \n",
              "3364                                    No   \n",
              "3365                 Yes (Entire Building)   \n",
              "\n",
              "      Number of Outlets that Require Sampling  Outlets ≤ 15 ppb  \\\n",
              "3361                                     49.0              42.0   \n",
              "3362                                     35.0              28.0   \n",
              "3363                                     52.0              51.0   \n",
              "3364                                     47.0              44.0   \n",
              "3365                                     44.0              43.0   \n",
              "\n",
              "      Outlets > 15 ppb          County Location  \n",
              "3361               7.0  (42.723641, -78.204473)  \n",
              "3362               7.0  (42.723641, -78.204473)  \n",
              "3363               1.0  (42.723641, -78.204473)  \n",
              "3364               3.0  (42.723641, -78.204473)  \n",
              "3365               1.0  (42.634338, -77.078311)  "
            ]
          },
          "execution_count": 11,
          "metadata": {},
          "output_type": "execute_result"
        }
      ],
      "source": [
        "#  Import and read the combined csv\n",
        "df=pd.read_csv(Path('../brittany_analysis/data/cleaned_water_data.csv'))\n",
        "df.tail()"
      ]
    },
    {
      "cell_type": "code",
      "execution_count": 12,
      "metadata": {},
      "outputs": [],
      "source": [
        "#Drop specific columns that are not needed \n",
        "df=df.drop(columns=['County','County Location','Type of Organization','School'])\n"
      ]
    },
    {
      "cell_type": "code",
      "execution_count": 13,
      "metadata": {},
      "outputs": [
        {
          "data": {
            "text/plain": [
              "Index(['Zip', 'Any Building with Lead-Free Plumbing?',\n",
              "       'Number of Outlets that Require Sampling', 'Outlets ≤ 15 ppb',\n",
              "       'Outlets > 15 ppb'],\n",
              "      dtype='object')"
            ]
          },
          "execution_count": 13,
          "metadata": {},
          "output_type": "execute_result"
        }
      ],
      "source": [
        "#Select your features (columns)\n",
        "df.columns"
      ]
    },
    {
      "cell_type": "code",
      "execution_count": 14,
      "metadata": {},
      "outputs": [
        {
          "data": {
            "text/html": [
              "<div>\n",
              "<style scoped>\n",
              "    .dataframe tbody tr th:only-of-type {\n",
              "        vertical-align: middle;\n",
              "    }\n",
              "\n",
              "    .dataframe tbody tr th {\n",
              "        vertical-align: top;\n",
              "    }\n",
              "\n",
              "    .dataframe thead th {\n",
              "        text-align: right;\n",
              "    }\n",
              "</style>\n",
              "<table border=\"1\" class=\"dataframe\">\n",
              "  <thead>\n",
              "    <tr style=\"text-align: right;\">\n",
              "      <th></th>\n",
              "      <th>Zip</th>\n",
              "      <th>Any Building with Lead-Free Plumbing?</th>\n",
              "      <th>Number of Outlets that Require Sampling</th>\n",
              "      <th>Outlets ≤ 15 ppb</th>\n",
              "      <th>Outlets &gt; 15 ppb</th>\n",
              "    </tr>\n",
              "  </thead>\n",
              "  <tbody>\n",
              "    <tr>\n",
              "      <th>0</th>\n",
              "      <td>12009</td>\n",
              "      <td>No</td>\n",
              "      <td>63.0</td>\n",
              "      <td>63.0</td>\n",
              "      <td>0.0</td>\n",
              "    </tr>\n",
              "    <tr>\n",
              "      <th>1</th>\n",
              "      <td>12047</td>\n",
              "      <td>No</td>\n",
              "      <td>74.0</td>\n",
              "      <td>74.0</td>\n",
              "      <td>0.0</td>\n",
              "    </tr>\n",
              "    <tr>\n",
              "      <th>2</th>\n",
              "      <td>12047</td>\n",
              "      <td>No</td>\n",
              "      <td>81.0</td>\n",
              "      <td>80.0</td>\n",
              "      <td>1.0</td>\n",
              "    </tr>\n",
              "    <tr>\n",
              "      <th>3</th>\n",
              "      <td>12047</td>\n",
              "      <td>No</td>\n",
              "      <td>53.0</td>\n",
              "      <td>53.0</td>\n",
              "      <td>0.0</td>\n",
              "    </tr>\n",
              "    <tr>\n",
              "      <th>4</th>\n",
              "      <td>12047</td>\n",
              "      <td>No</td>\n",
              "      <td>86.0</td>\n",
              "      <td>86.0</td>\n",
              "      <td>0.0</td>\n",
              "    </tr>\n",
              "    <tr>\n",
              "      <th>...</th>\n",
              "      <td>...</td>\n",
              "      <td>...</td>\n",
              "      <td>...</td>\n",
              "      <td>...</td>\n",
              "      <td>...</td>\n",
              "    </tr>\n",
              "    <tr>\n",
              "      <th>3361</th>\n",
              "      <td>14427</td>\n",
              "      <td>No</td>\n",
              "      <td>49.0</td>\n",
              "      <td>42.0</td>\n",
              "      <td>7.0</td>\n",
              "    </tr>\n",
              "    <tr>\n",
              "      <th>3362</th>\n",
              "      <td>14427</td>\n",
              "      <td>No</td>\n",
              "      <td>35.0</td>\n",
              "      <td>28.0</td>\n",
              "      <td>7.0</td>\n",
              "    </tr>\n",
              "    <tr>\n",
              "      <th>3363</th>\n",
              "      <td>14569</td>\n",
              "      <td>No</td>\n",
              "      <td>52.0</td>\n",
              "      <td>51.0</td>\n",
              "      <td>1.0</td>\n",
              "    </tr>\n",
              "    <tr>\n",
              "      <th>3364</th>\n",
              "      <td>14569</td>\n",
              "      <td>No</td>\n",
              "      <td>47.0</td>\n",
              "      <td>44.0</td>\n",
              "      <td>3.0</td>\n",
              "    </tr>\n",
              "    <tr>\n",
              "      <th>3365</th>\n",
              "      <td>14527</td>\n",
              "      <td>Yes (Entire Building)</td>\n",
              "      <td>44.0</td>\n",
              "      <td>43.0</td>\n",
              "      <td>1.0</td>\n",
              "    </tr>\n",
              "  </tbody>\n",
              "</table>\n",
              "<p>3366 rows × 5 columns</p>\n",
              "</div>"
            ],
            "text/plain": [
              "        Zip Any Building with Lead-Free Plumbing?  \\\n",
              "0     12009                                    No   \n",
              "1     12047                                    No   \n",
              "2     12047                                    No   \n",
              "3     12047                                    No   \n",
              "4     12047                                    No   \n",
              "...     ...                                   ...   \n",
              "3361  14427                                    No   \n",
              "3362  14427                                    No   \n",
              "3363  14569                                    No   \n",
              "3364  14569                                    No   \n",
              "3365  14527                 Yes (Entire Building)   \n",
              "\n",
              "      Number of Outlets that Require Sampling  Outlets ≤ 15 ppb  \\\n",
              "0                                        63.0              63.0   \n",
              "1                                        74.0              74.0   \n",
              "2                                        81.0              80.0   \n",
              "3                                        53.0              53.0   \n",
              "4                                        86.0              86.0   \n",
              "...                                       ...               ...   \n",
              "3361                                     49.0              42.0   \n",
              "3362                                     35.0              28.0   \n",
              "3363                                     52.0              51.0   \n",
              "3364                                     47.0              44.0   \n",
              "3365                                     44.0              43.0   \n",
              "\n",
              "      Outlets > 15 ppb  \n",
              "0                  0.0  \n",
              "1                  0.0  \n",
              "2                  1.0  \n",
              "3                  0.0  \n",
              "4                  0.0  \n",
              "...                ...  \n",
              "3361               7.0  \n",
              "3362               7.0  \n",
              "3363               1.0  \n",
              "3364               3.0  \n",
              "3365               1.0  \n",
              "\n",
              "[3366 rows x 5 columns]"
            ]
          },
          "execution_count": 14,
          "metadata": {},
          "output_type": "execute_result"
        }
      ],
      "source": [
        "df"
      ]
    },
    {
      "cell_type": "markdown",
      "metadata": {},
      "source": [
        "# Split the Data into Training and Testing Sets\n",
        "Use 'Any Building with Lead-Free Plumbing' for the y value to determine if there are any school building in the New York area with lead free plumbing."
      ]
    },
    {
      "cell_type": "code",
      "execution_count": 15,
      "metadata": {},
      "outputs": [],
      "source": [
        "#Set features that will be used as our y and x values\n",
        "y=df['Any Building with Lead-Free Plumbing?']\n",
        "X=df.drop(columns='Any Building with Lead-Free Plumbing?')"
      ]
    },
    {
      "cell_type": "code",
      "execution_count": 16,
      "metadata": {},
      "outputs": [
        {
          "data": {
            "text/plain": [
              "0    No\n",
              "1    No\n",
              "2    No\n",
              "3    No\n",
              "4    No\n",
              "Name: Any Building with Lead-Free Plumbing?, dtype: object"
            ]
          },
          "execution_count": 16,
          "metadata": {},
          "output_type": "execute_result"
        }
      ],
      "source": [
        "#Review the y variable \n",
        "y[:5]"
      ]
    },
    {
      "cell_type": "code",
      "execution_count": 17,
      "metadata": {},
      "outputs": [
        {
          "data": {
            "text/plain": [
              "No                        3297\n",
              "Yes (Entire Building)       31\n",
              "Yes (Partial Building)      22\n",
              "Yes                         16\n",
              "Name: Any Building with Lead-Free Plumbing?, dtype: int64"
            ]
          },
          "execution_count": 17,
          "metadata": {},
          "output_type": "execute_result"
        }
      ],
      "source": [
        "y.value_counts()"
      ]
    },
    {
      "cell_type": "code",
      "execution_count": 18,
      "metadata": {},
      "outputs": [
        {
          "data": {
            "text/html": [
              "<div>\n",
              "<style scoped>\n",
              "    .dataframe tbody tr th:only-of-type {\n",
              "        vertical-align: middle;\n",
              "    }\n",
              "\n",
              "    .dataframe tbody tr th {\n",
              "        vertical-align: top;\n",
              "    }\n",
              "\n",
              "    .dataframe thead th {\n",
              "        text-align: right;\n",
              "    }\n",
              "</style>\n",
              "<table border=\"1\" class=\"dataframe\">\n",
              "  <thead>\n",
              "    <tr style=\"text-align: right;\">\n",
              "      <th></th>\n",
              "      <th>Zip</th>\n",
              "      <th>Number of Outlets that Require Sampling</th>\n",
              "      <th>Outlets ≤ 15 ppb</th>\n",
              "      <th>Outlets &gt; 15 ppb</th>\n",
              "    </tr>\n",
              "  </thead>\n",
              "  <tbody>\n",
              "    <tr>\n",
              "      <th>0</th>\n",
              "      <td>12009</td>\n",
              "      <td>63.0</td>\n",
              "      <td>63.0</td>\n",
              "      <td>0.0</td>\n",
              "    </tr>\n",
              "    <tr>\n",
              "      <th>1</th>\n",
              "      <td>12047</td>\n",
              "      <td>74.0</td>\n",
              "      <td>74.0</td>\n",
              "      <td>0.0</td>\n",
              "    </tr>\n",
              "    <tr>\n",
              "      <th>2</th>\n",
              "      <td>12047</td>\n",
              "      <td>81.0</td>\n",
              "      <td>80.0</td>\n",
              "      <td>1.0</td>\n",
              "    </tr>\n",
              "    <tr>\n",
              "      <th>3</th>\n",
              "      <td>12047</td>\n",
              "      <td>53.0</td>\n",
              "      <td>53.0</td>\n",
              "      <td>0.0</td>\n",
              "    </tr>\n",
              "    <tr>\n",
              "      <th>4</th>\n",
              "      <td>12047</td>\n",
              "      <td>86.0</td>\n",
              "      <td>86.0</td>\n",
              "      <td>0.0</td>\n",
              "    </tr>\n",
              "  </tbody>\n",
              "</table>\n",
              "</div>"
            ],
            "text/plain": [
              "     Zip  Number of Outlets that Require Sampling  Outlets ≤ 15 ppb  \\\n",
              "0  12009                                     63.0              63.0   \n",
              "1  12047                                     74.0              74.0   \n",
              "2  12047                                     81.0              80.0   \n",
              "3  12047                                     53.0              53.0   \n",
              "4  12047                                     86.0              86.0   \n",
              "\n",
              "   Outlets > 15 ppb  \n",
              "0               0.0  \n",
              "1               0.0  \n",
              "2               1.0  \n",
              "3               0.0  \n",
              "4               0.0  "
            ]
          },
          "execution_count": 18,
          "metadata": {},
          "output_type": "execute_result"
        }
      ],
      "source": [
        "#Review the X variable \n",
        "X[:5]"
      ]
    },
    {
      "cell_type": "code",
      "execution_count": 19,
      "metadata": {},
      "outputs": [
        {
          "data": {
            "text/plain": [
              "No                        3297\n",
              "Yes (Entire Building)       31\n",
              "Yes (Partial Building)      22\n",
              "Yes                         16\n",
              "Name: Any Building with Lead-Free Plumbing?, dtype: int64"
            ]
          },
          "execution_count": 19,
          "metadata": {},
          "output_type": "execute_result"
        }
      ],
      "source": [
        "#Check the balance of the targeted value \n",
        "y.value_counts()"
      ]
    },
    {
      "cell_type": "code",
      "execution_count": 20,
      "metadata": {},
      "outputs": [],
      "source": [
        "#create a Train Test Split \n",
        "X_train, X_test, y_train, y_test = train_test_split(X,y, random_state = 42)"
      ]
    },
    {
      "cell_type": "markdown",
      "metadata": {},
      "source": [
        "## Logistical Regression Model"
      ]
    },
    {
      "cell_type": "code",
      "execution_count": 21,
      "metadata": {},
      "outputs": [
        {
          "name": "stderr",
          "output_type": "stream",
          "text": [
            "c:\\Users\\britt\\anaconda3\\lib\\site-packages\\sklearn\\linear_model\\_logistic.py:458: ConvergenceWarning: lbfgs failed to converge (status=1):\n",
            "STOP: TOTAL NO. of ITERATIONS REACHED LIMIT.\n",
            "\n",
            "Increase the number of iterations (max_iter) or scale the data as shown in:\n",
            "    https://scikit-learn.org/stable/modules/preprocessing.html\n",
            "Please also refer to the documentation for alternative solver options:\n",
            "    https://scikit-learn.org/stable/modules/linear_model.html#logistic-regression\n",
            "  n_iter_i = _check_optimize_result(\n"
          ]
        }
      ],
      "source": [
        "#Create a Logistic Regression Model by using the training data \n",
        "lr_model=LogisticRegression(random_state=42)\n",
        "#Fit the model using the training Data \n",
        "training_model=lr_model.fit(X_train,y_train)"
      ]
    },
    {
      "cell_type": "code",
      "execution_count": 22,
      "metadata": {},
      "outputs": [],
      "source": [
        "#make a prediction using testing data \n",
        "testing_predictions=training_model.predict(X_test)"
      ]
    },
    {
      "cell_type": "code",
      "execution_count": 23,
      "metadata": {},
      "outputs": [
        {
          "name": "stdout",
          "output_type": "stream",
          "text": [
            "0.24969843184559712\n"
          ]
        }
      ],
      "source": [
        "#Show the balanced accuracy score of the model\n",
        "balanced_model=balanced_accuracy_score(y_test, testing_predictions) \n",
        "print(balanced_model)"
      ]
    },
    {
      "cell_type": "code",
      "execution_count": 24,
      "metadata": {},
      "outputs": [
        {
          "name": "stdout",
          "output_type": "stream",
          "text": [
            "[[828   1   0   0]\n",
            " [  3   0   0   0]\n",
            " [  9   0   0   0]\n",
            " [  1   0   0   0]]\n"
          ]
        }
      ],
      "source": [
        "# Generate a confusion matrix for the model\n",
        "matrix_model=confusion_matrix(y_test,testing_predictions)\n",
        "print(matrix_model)"
      ]
    },
    {
      "cell_type": "code",
      "execution_count": 25,
      "metadata": {},
      "outputs": [
        {
          "name": "stderr",
          "output_type": "stream",
          "text": [
            "c:\\Users\\britt\\anaconda3\\lib\\site-packages\\sklearn\\metrics\\_classification.py:1344: UndefinedMetricWarning: Precision and F-score are ill-defined and being set to 0.0 in labels with no predicted samples. Use `zero_division` parameter to control this behavior.\n",
            "  _warn_prf(average, modifier, msg_start, len(result))\n"
          ]
        },
        {
          "name": "stdout",
          "output_type": "stream",
          "text": [
            "                        precision    recall  f1-score   support\n",
            "\n",
            "                    No       0.98      1.00      0.99       829\n",
            "                   Yes       0.00      0.00      0.00         3\n",
            " Yes (Entire Building)       0.00      0.00      0.00         9\n",
            "Yes (Partial Building)       0.00      0.00      0.00         1\n",
            "\n",
            "              accuracy                           0.98       842\n",
            "             macro avg       0.25      0.25      0.25       842\n",
            "          weighted avg       0.97      0.98      0.98       842\n",
            "\n"
          ]
        },
        {
          "name": "stderr",
          "output_type": "stream",
          "text": [
            "c:\\Users\\britt\\anaconda3\\lib\\site-packages\\sklearn\\metrics\\_classification.py:1344: UndefinedMetricWarning: Precision and F-score are ill-defined and being set to 0.0 in labels with no predicted samples. Use `zero_division` parameter to control this behavior.\n",
            "  _warn_prf(average, modifier, msg_start, len(result))\n",
            "c:\\Users\\britt\\anaconda3\\lib\\site-packages\\sklearn\\metrics\\_classification.py:1344: UndefinedMetricWarning: Precision and F-score are ill-defined and being set to 0.0 in labels with no predicted samples. Use `zero_division` parameter to control this behavior.\n",
            "  _warn_prf(average, modifier, msg_start, len(result))\n"
          ]
        }
      ],
      "source": [
        "# Print the classification report for the model\n",
        "classification_model=classification_report(y_test,testing_predictions)\n",
        "print(classification_model)"
      ]
    },
    {
      "cell_type": "markdown",
      "metadata": {},
      "source": [
        "# Predicting a Logistical Regression Model with Resampled Training Data \n",
        "using RandomOverSampler"
      ]
    },
    {
      "cell_type": "code",
      "execution_count": 26,
      "metadata": {},
      "outputs": [],
      "source": [
        "# RandomOverSampler to resample the data \n",
        "# # Assign a random_state parameter of 42\n",
        "random_oversampler_model=RandomOverSampler(random_state=42)\n",
        "\n",
        "# Fit the original training data to the random_oversampler model\n",
        "X_oversample, y_oversample = random_oversampler_model.fit_resample(X_train,y_train)"
      ]
    },
    {
      "cell_type": "code",
      "execution_count": 27,
      "metadata": {},
      "outputs": [
        {
          "data": {
            "text/plain": [
              "No                        2468\n",
              "Yes                       2468\n",
              "Yes (Partial Building)    2468\n",
              "Yes (Entire Building)     2468\n",
              "Name: Any Building with Lead-Free Plumbing?, dtype: int64"
            ]
          },
          "execution_count": 27,
          "metadata": {},
          "output_type": "execute_result"
        }
      ],
      "source": [
        "# Count the distinct values of the resampled labels data\n",
        "y_oversample.value_counts()"
      ]
    },
    {
      "cell_type": "code",
      "execution_count": 28,
      "metadata": {},
      "outputs": [
        {
          "name": "stderr",
          "output_type": "stream",
          "text": [
            "c:\\Users\\britt\\anaconda3\\lib\\site-packages\\sklearn\\linear_model\\_logistic.py:458: ConvergenceWarning: lbfgs failed to converge (status=1):\n",
            "STOP: TOTAL NO. of ITERATIONS REACHED LIMIT.\n",
            "\n",
            "Increase the number of iterations (max_iter) or scale the data as shown in:\n",
            "    https://scikit-learn.org/stable/modules/preprocessing.html\n",
            "Please also refer to the documentation for alternative solver options:\n",
            "    https://scikit-learn.org/stable/modules/linear_model.html#logistic-regression\n",
            "  n_iter_i = _check_optimize_result(\n"
          ]
        }
      ],
      "source": [
        "#Logistic Regression Model\n",
        "random_state_model=LogisticRegression(solver='lbfgs', random_state=42)\n",
        "\n",
        "# Fit the model using the resampled training data\n",
        "random_state_model.fit(X_oversample,y_oversample)\n",
        "\n",
        "# Make a prediction using the testing data\n",
        "y_prediction=random_state_model.predict(X_test)"
      ]
    },
    {
      "cell_type": "code",
      "execution_count": 29,
      "metadata": {},
      "outputs": [
        {
          "data": {
            "text/plain": [
              "0.37943975338426483"
            ]
          },
          "execution_count": 29,
          "metadata": {},
          "output_type": "execute_result"
        }
      ],
      "source": [
        "# Print the balanced_accuracy score of the model \n",
        "balanced_accuracy_score(y_test, y_prediction)"
      ]
    },
    {
      "cell_type": "code",
      "execution_count": 30,
      "metadata": {},
      "outputs": [
        {
          "name": "stdout",
          "output_type": "stream",
          "text": [
            "[[245 166 321  97]\n",
            " [  1   2   0   0]\n",
            " [  1   1   5   2]\n",
            " [  1   0   0   0]]\n"
          ]
        }
      ],
      "source": [
        "# Generate a confusion matrix for the model\n",
        "print(confusion_matrix(y_test, y_prediction))"
      ]
    },
    {
      "cell_type": "code",
      "execution_count": 31,
      "metadata": {},
      "outputs": [
        {
          "name": "stdout",
          "output_type": "stream",
          "text": [
            "                        precision    recall  f1-score   support\n",
            "\n",
            "                    No       0.99      0.30      0.45       829\n",
            "                   Yes       0.01      0.67      0.02         3\n",
            " Yes (Entire Building)       0.02      0.56      0.03         9\n",
            "Yes (Partial Building)       0.00      0.00      0.00         1\n",
            "\n",
            "              accuracy                           0.30       842\n",
            "             macro avg       0.25      0.38      0.13       842\n",
            "          weighted avg       0.97      0.30      0.45       842\n",
            "\n"
          ]
        }
      ],
      "source": [
        "# Print the classification report for the model\n",
        "print(classification_report(y_test, y_prediction))"
      ]
    }
  ],
  "metadata": {
    "colab": {
      "provenance": []
    },
    "kernelspec": {
      "display_name": "Python 3",
      "name": "python3"
    },
    "language_info": {
      "codemirror_mode": {
        "name": "ipython",
        "version": 3
      },
      "file_extension": ".py",
      "mimetype": "text/x-python",
      "name": "python",
      "nbconvert_exporter": "python",
      "pygments_lexer": "ipython3",
      "version": "3.10.9"
    }
  },
  "nbformat": 4,
  "nbformat_minor": 0
}
